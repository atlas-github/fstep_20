{
  "nbformat": 4,
  "nbformat_minor": 0,
  "metadata": {
    "colab": {
      "name": "fstep_20_dataviz_students.ipynb",
      "provenance": [],
      "collapsed_sections": [],
      "toc_visible": true,
      "authorship_tag": "ABX9TyOH1vfzluriug/5mz9lFeS+",
      "include_colab_link": true
    },
    "kernelspec": {
      "name": "python3",
      "display_name": "Python 3"
    },
    "language_info": {
      "name": "python"
    }
  },
  "cells": [
    {
      "cell_type": "markdown",
      "metadata": {
        "id": "view-in-github",
        "colab_type": "text"
      },
      "source": [
        "<a href=\"https://colab.research.google.com/github/atlas-github/fstep_20/blob/main/fstep_20_dataviz_students.ipynb\" target=\"_parent\"><img src=\"https://colab.research.google.com/assets/colab-badge.svg\" alt=\"Open In Colab\"/></a>"
      ]
    },
    {
      "cell_type": "markdown",
      "metadata": {
        "id": "N4vHUHvEB8X-"
      },
      "source": [
        "#Context"
      ]
    },
    {
      "cell_type": "markdown",
      "metadata": {
        "id": "1G3XA7FCB_F4"
      },
      "source": [
        "In 1953, the New York State Legislature created the New York City Transit Authority as a public corporation to oversee management and operation of the public transportation system. Now known as MTA New York City Transit, it operates the New York City subway, and local and express New York City buses alongside its sister MTA agencies the Long Island Rail Road and the Metro-North Railroad commuter rail services. The New York City subway system has the highest ridership of any subway in the US and the 7th largest in the world. It provided an average of 5.7 million weekday rides in 2015.\n",
        "\n",
        "In this lesson, we will examine the turnstile data provided by the MTA. As we will see, **turnstile data tracks the number of entries and exits of passengers in the subway system**. However, **the number of times the turnstile records an entrance or exit does not capture the total number of passengers who use the subway**. Passengers who use one-way exit turnstiles are not counted. Passengers often use emergency exits instead of the turnstiles during peak hours or if the turnstiles are in an inconvenient location. People may also “jump the turnstiles” and enter the system without paying a fare (and using the turnstile.)\n",
        "\n",
        "In this exercise, we shall **examine passengers entering through turnstiles** in some of the busiest and largest stations in the MTA subway system.\n",
        "\n",
        "Side note: The MTA subway system charges one fare regardless of the distance travel. Washington DC’s Metro subway and Seattle’s light rail system charges based on the numbers of zones travels. Passengers must “tap in” when they enter the system, and “tap out” when they exit the system to determine their fare. One feature of this payment structure is that those transit systems have better data on the length and destinations of trips.\n",
        "\n",
        "Source: [Transit Data Toolkit](http://transitdatatoolkit.com/lessons/subway-turnstile-data/)"
      ]
    },
    {
      "cell_type": "markdown",
      "metadata": {
        "id": "7xDosQms0SL7"
      },
      "source": [
        "#Extract and explore MTA data"
      ]
    },
    {
      "cell_type": "code",
      "metadata": {
        "id": "Qf8cWIIE0Ejt"
      },
      "source": [
        "#This extracts a few files from http://web.mta.info/developers/turnstile.html\n",
        "\n",
        "### INSERT CODE HERE ###"
      ],
      "execution_count": null,
      "outputs": []
    },
    {
      "cell_type": "code",
      "metadata": {
        "id": "pnV8woBy5sFp"
      },
      "source": [
        "import pandas as pd\n",
        "\n",
        "### INSERT CODE HERE ###\n",
        "\n",
        "#Filter to only include January data\n",
        "#df0 = df1[df1.DATE.str.startswith(\"01\")]"
      ],
      "execution_count": null,
      "outputs": []
    },
    {
      "cell_type": "code",
      "metadata": {
        "id": "SBCv2fyiF0Jh"
      },
      "source": [
        "#Append the dataframes together\n",
        "\n",
        "### INSERT CODE HERE ###"
      ],
      "execution_count": null,
      "outputs": []
    },
    {
      "cell_type": "markdown",
      "metadata": {
        "id": "JJJZ8qud7dCS"
      },
      "source": [
        "C/A – The Control Area is the operator booth in a station. Some stations only have one operator booth. However, larger stations may have more than one.\n",
        "\n",
        "UNIT – The Remote Unit, which is the collection of turnstiles. A station may have more than one Remote Unit.\n",
        "\n",
        "SCP – The Subunit Channel Position represents the turnstile and the number used may repeat across stations. The UNIT and SCP together is a unique identifier of a turnstile.\n",
        "\n",
        "DATE – The Date is the date of the recording with the format MM/DD/YYYY.\n",
        "\n",
        "TIME – The Time is the time for a recording, with the format: HH:MM:SS.\n",
        "\n",
        "DESC – The DESC is the type of event of the reading. The turnstiles submit “Regular” readings every four hours. They stagger the exact time of the readings across all the turnstiles and stations. Staggering the data submission times avoids having all the turnstiles update at simultaneously. “Recover Audit” designates scheduled readings taken after a communication outage. Our analysis uses “Regular” and “Recover Audit” readings. We discard other values such as “DoorClose” and “DoorOpen” which represent unscheduled maintenance readings.\n",
        "\n",
        "ENTRIES = The ENTRIES are a cumulative count of turnstile entrances. Note, the ENTRIES do not reset each day or for each recording period. The turnstile entry count continues to increase until it reaches the device limit and then resets to zero.\n",
        "\n",
        "EXITS = The EXITS are a cumulative count of the turnstile exits."
      ]
    },
    {
      "cell_type": "markdown",
      "metadata": {
        "id": "wYiv6Apg0WYz"
      },
      "source": [
        "#Prepare data"
      ]
    },
    {
      "cell_type": "code",
      "metadata": {
        "id": "na6-v5GW0ZF5"
      },
      "source": [
        "#Rename C/A column to BOOTH\n",
        "\n",
        "### INSERT CODE HERE ###\n",
        "\n",
        "#Keep only Regular and Recovery Audit readings\n",
        "\n",
        "### INSERT CODE HERE ###"
      ],
      "execution_count": null,
      "outputs": []
    },
    {
      "cell_type": "markdown",
      "metadata": {
        "id": "zESHCdnfMzGi"
      },
      "source": [
        "In the turnstile `dataframe`, look at the `Entries` and `Exits` columns.\n",
        "The turnstiles record each time a passenger enters and exits through it. Every four hours, they send a time-stamped running tally of the entries and exits. The data shows that the tally increases with every reading. The turnstiles reset when their counters reach their maximum limit. To determine how many people enter through a turnstile, we subtract the previous time stamped `Entries` reading with the current number of `Entries`."
      ]
    },
    {
      "cell_type": "code",
      "metadata": {
        "colab": {
          "base_uri": "https://localhost:8080/",
          "height": 419
        },
        "id": "GTWKLipEQUFI",
        "outputId": "c8db179d-fea8-48c8-ac75-59bcd13f798e"
      },
      "source": [
        "#Calculate diff\n",
        "df_filter['diff'] = df_filter.groupby([\"BOOTH\", \"SCP\"]).ENTRIES.diff()\n",
        "df_filter"
      ],
      "execution_count": null,
      "outputs": [
        {
          "output_type": "execute_result",
          "data": {
            "text/html": [
              "<div>\n",
              "<style scoped>\n",
              "    .dataframe tbody tr th:only-of-type {\n",
              "        vertical-align: middle;\n",
              "    }\n",
              "\n",
              "    .dataframe tbody tr th {\n",
              "        vertical-align: top;\n",
              "    }\n",
              "\n",
              "    .dataframe thead th {\n",
              "        text-align: right;\n",
              "    }\n",
              "</style>\n",
              "<table border=\"1\" class=\"dataframe\">\n",
              "  <thead>\n",
              "    <tr style=\"text-align: right;\">\n",
              "      <th></th>\n",
              "      <th>BOOTH</th>\n",
              "      <th>UNIT</th>\n",
              "      <th>SCP</th>\n",
              "      <th>STATION</th>\n",
              "      <th>LINENAME</th>\n",
              "      <th>DIVISION</th>\n",
              "      <th>DATE</th>\n",
              "      <th>TIME</th>\n",
              "      <th>DESC</th>\n",
              "      <th>ENTRIES</th>\n",
              "      <th>EXITS</th>\n",
              "      <th>diff</th>\n",
              "    </tr>\n",
              "  </thead>\n",
              "  <tbody>\n",
              "    <tr>\n",
              "      <th>0</th>\n",
              "      <td>A002</td>\n",
              "      <td>R051</td>\n",
              "      <td>02-00-00</td>\n",
              "      <td>59 ST</td>\n",
              "      <td>NQR456W</td>\n",
              "      <td>BMT</td>\n",
              "      <td>01/01/2021</td>\n",
              "      <td>03:00:00</td>\n",
              "      <td>REGULAR</td>\n",
              "      <td>7511448</td>\n",
              "      <td>2558786</td>\n",
              "      <td>NaN</td>\n",
              "    </tr>\n",
              "    <tr>\n",
              "      <th>1</th>\n",
              "      <td>A002</td>\n",
              "      <td>R051</td>\n",
              "      <td>02-00-00</td>\n",
              "      <td>59 ST</td>\n",
              "      <td>NQR456W</td>\n",
              "      <td>BMT</td>\n",
              "      <td>01/01/2021</td>\n",
              "      <td>07:00:00</td>\n",
              "      <td>REGULAR</td>\n",
              "      <td>7511451</td>\n",
              "      <td>2558789</td>\n",
              "      <td>3.0</td>\n",
              "    </tr>\n",
              "    <tr>\n",
              "      <th>2</th>\n",
              "      <td>A002</td>\n",
              "      <td>R051</td>\n",
              "      <td>02-00-00</td>\n",
              "      <td>59 ST</td>\n",
              "      <td>NQR456W</td>\n",
              "      <td>BMT</td>\n",
              "      <td>01/01/2021</td>\n",
              "      <td>11:00:00</td>\n",
              "      <td>REGULAR</td>\n",
              "      <td>7511461</td>\n",
              "      <td>2558813</td>\n",
              "      <td>10.0</td>\n",
              "    </tr>\n",
              "    <tr>\n",
              "      <th>3</th>\n",
              "      <td>A002</td>\n",
              "      <td>R051</td>\n",
              "      <td>02-00-00</td>\n",
              "      <td>59 ST</td>\n",
              "      <td>NQR456W</td>\n",
              "      <td>BMT</td>\n",
              "      <td>01/01/2021</td>\n",
              "      <td>15:00:00</td>\n",
              "      <td>REGULAR</td>\n",
              "      <td>7511495</td>\n",
              "      <td>2558831</td>\n",
              "      <td>34.0</td>\n",
              "    </tr>\n",
              "    <tr>\n",
              "      <th>4</th>\n",
              "      <td>A002</td>\n",
              "      <td>R051</td>\n",
              "      <td>02-00-00</td>\n",
              "      <td>59 ST</td>\n",
              "      <td>NQR456W</td>\n",
              "      <td>BMT</td>\n",
              "      <td>01/01/2021</td>\n",
              "      <td>19:00:00</td>\n",
              "      <td>REGULAR</td>\n",
              "      <td>7511620</td>\n",
              "      <td>2558857</td>\n",
              "      <td>125.0</td>\n",
              "    </tr>\n",
              "    <tr>\n",
              "      <th>...</th>\n",
              "      <td>...</td>\n",
              "      <td>...</td>\n",
              "      <td>...</td>\n",
              "      <td>...</td>\n",
              "      <td>...</td>\n",
              "      <td>...</td>\n",
              "      <td>...</td>\n",
              "      <td>...</td>\n",
              "      <td>...</td>\n",
              "      <td>...</td>\n",
              "      <td>...</td>\n",
              "      <td>...</td>\n",
              "    </tr>\n",
              "    <tr>\n",
              "      <th>868498</th>\n",
              "      <td>TRAM2</td>\n",
              "      <td>R469</td>\n",
              "      <td>00-05-01</td>\n",
              "      <td>RIT-ROOSEVELT</td>\n",
              "      <td>R</td>\n",
              "      <td>RIT</td>\n",
              "      <td>01/29/2021</td>\n",
              "      <td>04:00:00</td>\n",
              "      <td>REGULAR</td>\n",
              "      <td>5554</td>\n",
              "      <td>544</td>\n",
              "      <td>0.0</td>\n",
              "    </tr>\n",
              "    <tr>\n",
              "      <th>868499</th>\n",
              "      <td>TRAM2</td>\n",
              "      <td>R469</td>\n",
              "      <td>00-05-01</td>\n",
              "      <td>RIT-ROOSEVELT</td>\n",
              "      <td>R</td>\n",
              "      <td>RIT</td>\n",
              "      <td>01/29/2021</td>\n",
              "      <td>08:00:00</td>\n",
              "      <td>REGULAR</td>\n",
              "      <td>5554</td>\n",
              "      <td>544</td>\n",
              "      <td>0.0</td>\n",
              "    </tr>\n",
              "    <tr>\n",
              "      <th>868500</th>\n",
              "      <td>TRAM2</td>\n",
              "      <td>R469</td>\n",
              "      <td>00-05-01</td>\n",
              "      <td>RIT-ROOSEVELT</td>\n",
              "      <td>R</td>\n",
              "      <td>RIT</td>\n",
              "      <td>01/29/2021</td>\n",
              "      <td>12:00:00</td>\n",
              "      <td>REGULAR</td>\n",
              "      <td>5554</td>\n",
              "      <td>544</td>\n",
              "      <td>0.0</td>\n",
              "    </tr>\n",
              "    <tr>\n",
              "      <th>868501</th>\n",
              "      <td>TRAM2</td>\n",
              "      <td>R469</td>\n",
              "      <td>00-05-01</td>\n",
              "      <td>RIT-ROOSEVELT</td>\n",
              "      <td>R</td>\n",
              "      <td>RIT</td>\n",
              "      <td>01/29/2021</td>\n",
              "      <td>16:00:00</td>\n",
              "      <td>REGULAR</td>\n",
              "      <td>5554</td>\n",
              "      <td>544</td>\n",
              "      <td>0.0</td>\n",
              "    </tr>\n",
              "    <tr>\n",
              "      <th>868502</th>\n",
              "      <td>TRAM2</td>\n",
              "      <td>R469</td>\n",
              "      <td>00-05-01</td>\n",
              "      <td>RIT-ROOSEVELT</td>\n",
              "      <td>R</td>\n",
              "      <td>RIT</td>\n",
              "      <td>01/29/2021</td>\n",
              "      <td>20:00:00</td>\n",
              "      <td>REGULAR</td>\n",
              "      <td>5554</td>\n",
              "      <td>544</td>\n",
              "      <td>0.0</td>\n",
              "    </tr>\n",
              "  </tbody>\n",
              "</table>\n",
              "<p>868503 rows × 12 columns</p>\n",
              "</div>"
            ],
            "text/plain": [
              "        BOOTH  ...   diff\n",
              "0        A002  ...    NaN\n",
              "1        A002  ...    3.0\n",
              "2        A002  ...   10.0\n",
              "3        A002  ...   34.0\n",
              "4        A002  ...  125.0\n",
              "...       ...  ...    ...\n",
              "868498  TRAM2  ...    0.0\n",
              "868499  TRAM2  ...    0.0\n",
              "868500  TRAM2  ...    0.0\n",
              "868501  TRAM2  ...    0.0\n",
              "868502  TRAM2  ...    0.0\n",
              "\n",
              "[868503 rows x 12 columns]"
            ]
          },
          "metadata": {
            "tags": []
          },
          "execution_count": 52
        }
      ]
    },
    {
      "cell_type": "markdown",
      "metadata": {
        "id": "M91AJ0m-RiT2"
      },
      "source": [
        "We now have the number of passengers entering and exiting a turnstile over each time interval. However, on occasion, there might be a negative number of passengers. Outages in the transmission, lapses in communication between the turnstile and the MTA backend servers, and maintenance on the turnstile cause these readings."
      ]
    },
    {
      "cell_type": "code",
      "metadata": {
        "id": "NfcK6RKPQotI"
      },
      "source": [
        "#Filter to only positive diff\n",
        "\n",
        "### INSERT CODE HERE ###"
      ],
      "execution_count": null,
      "outputs": []
    },
    {
      "cell_type": "markdown",
      "metadata": {
        "id": "Z57ZuZkxSIM8"
      },
      "source": [
        "Four major stations of the subway system are `34th St Penn Station`, `42nd St Port Authority`, `42th St Grand Central`, and `Atlantic Avenue Barclay`. These are some of the busiest stations in the system, with connections to other various modes of transit such as Amtrak, Long Island Railroad, MTA Metro North regional trains, and regional bus service. Let’s compare the ridership of these stations."
      ]
    },
    {
      "cell_type": "code",
      "metadata": {
        "id": "b6r0J3BbSLW9"
      },
      "source": [
        "#Filter to only the 4 stations\n",
        "\n",
        "### INSERT CODE HERE ###"
      ],
      "execution_count": null,
      "outputs": []
    },
    {
      "cell_type": "markdown",
      "metadata": {
        "id": "zUREuRCCUobL"
      },
      "source": [
        "Then we calculate the Entries by our four stations and day. The `sum` function groups all our data into subsets and produces summary statistics on each subset. "
      ]
    },
    {
      "cell_type": "code",
      "metadata": {
        "id": "3Gs08r7ZS9JY"
      },
      "source": [
        "#Sum by station and date\n",
        "\n",
        "### INSERT CODE HERE ###"
      ],
      "execution_count": null,
      "outputs": []
    },
    {
      "cell_type": "markdown",
      "metadata": {
        "id": "AAi7BRrS0aF6"
      },
      "source": [
        "#Create charts using Seaborn"
      ]
    },
    {
      "cell_type": "markdown",
      "metadata": {
        "id": "XCWWbR2zW8_9"
      },
      "source": [
        "A line chart is a useful when comparing numeric values across time. We will use it to compare each station’s daily entries."
      ]
    },
    {
      "cell_type": "code",
      "metadata": {
        "id": "_ZxEhcHj0b10"
      },
      "source": [
        "import seaborn as sns\n",
        "#import matplotlib.pyplot as plt\n",
        "\n",
        "#plt.figure(figsize=(35, 8))\n",
        "sns.lineplot(data = stations_four, x = \"DATE\", y = \"diff\", hue = \"STATION\").set_title(\"MTA Subway Daily Turnstile Entries, Jan 2021\")"
      ],
      "execution_count": null,
      "outputs": []
    },
    {
      "cell_type": "markdown",
      "metadata": {
        "id": "JIo2dV7z0cwf"
      },
      "source": [
        "#Exercise"
      ]
    },
    {
      "cell_type": "markdown",
      "metadata": {
        "id": "qmufPCEcaKt4"
      },
      "source": [
        "Using `stations_four`, use Seaborn's [barplot](https://seaborn.pydata.org/generated/seaborn.barplot.html) to find the number of passengers for each station."
      ]
    },
    {
      "cell_type": "code",
      "metadata": {
        "id": "M0h-djOGFYNj"
      },
      "source": [
        "### INSERT CODE HERE ###"
      ],
      "execution_count": null,
      "outputs": []
    },
    {
      "cell_type": "code",
      "metadata": {
        "colab": {
          "base_uri": "https://localhost:8080/",
          "height": 296
        },
        "id": "j2QnjSVEaKSd",
        "outputId": "ef063c91-07df-4838-9e51-19c37713520f"
      },
      "source": [
        "### DON'T CODE HERE ###"
      ],
      "execution_count": null,
      "outputs": [
        {
          "output_type": "execute_result",
          "data": {
            "text/plain": [
              "<matplotlib.axes._subplots.AxesSubplot at 0x7f8618df50d0>"
            ]
          },
          "metadata": {
            "tags": []
          },
          "execution_count": 117
        },
        {
          "output_type": "display_data",
          "data": {
            "image/png": "[encoded data removed]",
            "text/plain": [
              "<Figure size 432x288 with 1 Axes>"
            ]
          },
          "metadata": {
            "tags": [],
            "needs_background": "light"
          }
        }
      ]
    },
    {
      "cell_type": "markdown",
      "metadata": {
        "id": "fNI65O9PBSmN"
      },
      "source": [
        "Using `stations_four`, use Seaborn's [boxplot](https://seaborn.pydata.org/generated/seaborn.boxplot.html) to find the number of passengers for each station."
      ]
    },
    {
      "cell_type": "code",
      "metadata": {
        "id": "1UpG6Yk1FhcP"
      },
      "source": [
        "### INSERT CODE HERE ###"
      ],
      "execution_count": null,
      "outputs": []
    },
    {
      "cell_type": "code",
      "metadata": {
        "colab": {
          "base_uri": "https://localhost:8080/",
          "height": 296
        },
        "id": "WjbYZaihk01n",
        "outputId": "1cd4df95-3e4b-41a8-8494-d53abe5b9ea4"
      },
      "source": [
        "### DON'T CODE HERE ###"
      ],
      "execution_count": null,
      "outputs": [
        {
          "output_type": "execute_result",
          "data": {
            "text/plain": [
              "<matplotlib.axes._subplots.AxesSubplot at 0x7f8618eb4810>"
            ]
          },
          "metadata": {
            "tags": []
          },
          "execution_count": 116
        },
        {
          "output_type": "display_data",
          "data": {
            "image/png": "[encoded data removed]",
            "text/plain": [
              "<Figure size 432x288 with 1 Axes>"
            ]
          },
          "metadata": {
            "tags": [],
            "needs_background": "light"
          }
        }
      ]
    },
    {
      "cell_type": "markdown",
      "metadata": {
        "id": "PqF5ShxXBhu6"
      },
      "source": [
        "Using another file below, what is the highest number of booths in any one station?\n",
        "\n",
        "HINT: Use a [countplot](https://seaborn.pydata.org/generated/seaborn.countplot.html#seaborn.countplot)."
      ]
    },
    {
      "cell_type": "code",
      "metadata": {
        "id": "LN0tybhni-99"
      },
      "source": [
        "!wget http://web.mta.info/developers/resources/nyct/turnstile/Remote-Booth-Station.xls"
      ],
      "execution_count": null,
      "outputs": []
    },
    {
      "cell_type": "code",
      "metadata": {
        "id": "QZe3vc5djNww"
      },
      "source": [
        "stations = pd.read_excel(\"Remote-Booth-Station.xls\")\n",
        "stations"
      ],
      "execution_count": null,
      "outputs": []
    },
    {
      "cell_type": "code",
      "metadata": {
        "id": "SncBsQpNoZ_U"
      },
      "source": [
        "### INSERT CODE HERE ###"
      ],
      "execution_count": null,
      "outputs": []
    },
    {
      "cell_type": "code",
      "metadata": {
        "colab": {
          "base_uri": "https://localhost:8080/",
          "height": 296
        },
        "id": "rSILYxosguDT",
        "outputId": "6539d08d-da62-4b7f-c9d1-c255e3f8fbfd"
      },
      "source": [
        "### DON'T CODE HERE ###"
      ],
      "execution_count": null,
      "outputs": [
        {
          "output_type": "execute_result",
          "data": {
            "text/plain": [
              "<matplotlib.axes._subplots.AxesSubplot at 0x7f86142cf5d0>"
            ]
          },
          "metadata": {
            "tags": []
          },
          "execution_count": 128
        },
        {
          "output_type": "display_data",
          "data": {
            "image/png": "[encoded data removed]",
            "text/plain": [
              "<Figure size 432x288 with 1 Axes>"
            ]
          },
          "metadata": {
            "tags": [],
            "needs_background": "light"
          }
        }
      ]
    }
  ]
}